{
 "cells": [
  {
   "cell_type": "markdown",
   "id": "a23019b7-9dbd-42f0-8c95-57d4faf0cfc2",
   "metadata": {},
   "source": [
    "# EDA OF STUDENT TEST DATASET\n"
   ]
  },
  {
   "cell_type": "markdown",
   "id": "430cd27d-7123-4227-b59a-9d09b5a6817e",
   "metadata": {},
   "source": [
    "## Problem Statement \n",
    "#### This project understands how the student's performance (test score) is affected by other variables such as Gender, Ethnicity,Parental level of education, Lunch and Test preparation course."
   ]
  },
  {
   "cell_type": "markdown",
   "id": "fc5f28a4-352e-4ff5-9006-bab8c2b9e8a1",
   "metadata": {},
   "source": [
    "## Data Collection\n",
    "#### Dataset Source - https://www.kaggle.com/datasets/spscientist/students-performance-in-exams?datasetId=74977\n",
    "#### data consists of 8 columns and 1000 rows\n"
   ]
  },
  {
   "cell_type": "markdown",
   "id": "0b8f3269-a41f-4e32-ae47-bba28110985a",
   "metadata": {},
   "source": [
    "#### Import necessary libraries"
   ]
  },
  {
   "cell_type": "code",
   "execution_count": 1,
   "id": "286dd3e0-0f76-41a8-ba62-fa84b54b0e7c",
   "metadata": {},
   "outputs": [],
   "source": [
    "import numpy as np\n",
    "import pandas as pd\n",
    "import seaborn as sns\n",
    "import matplotlib.pyplot as plt\n",
    "%matplotlib inline\n",
    "import warnings\n",
    "warnings.filterwarnings('ignore')"
   ]
  },
  {
   "cell_type": "markdown",
   "id": "10d54535-03e5-4276-b08a-62faad3cc868",
   "metadata": {},
   "source": [
    "#### Import csv dataset as pandas dataframe"
   ]
  },
  {
   "cell_type": "code",
   "execution_count": 2,
   "id": "e9efb59d-0ccc-4505-8328-3b8e96170e6a",
   "metadata": {},
   "outputs": [],
   "source": [
    "df = pd.read_csv(\"data/stud.csv\")"
   ]
  },
  {
   "cell_type": "markdown",
   "id": "e564a5c4-6732-48be-b851-da8e2bfc9618",
   "metadata": {},
   "source": [
    "#### Show top 5 records"
   ]
  },
  {
   "cell_type": "markdown",
   "id": "23c4f70f-469f-4ea3-aa81-adb78571a177",
   "metadata": {},
   "source": [
    "df.head()"
   ]
  },
  {
   "cell_type": "markdown",
   "id": "f8b2fba4-a81e-47e9-9c2f-aa84c46e709f",
   "metadata": {},
   "source": [
    "#### Shape of the dataset"
   ]
  },
  {
   "cell_type": "markdown",
   "id": "1dc1119e-5c1e-4b0c-9239-1cfed03fc715",
   "metadata": {},
   "source": [
    "df.shape"
   ]
  },
  {
   "cell_type": "markdown",
   "id": "3c7c089f-ded6-46e1-aabe-4cb8cdd8eb67",
   "metadata": {},
   "source": [
    "#### Display first 10 records"
   ]
  },
  {
   "cell_type": "code",
   "execution_count": 3,
   "id": "f04aec33-07c9-447d-b991-e18326ce9fb0",
   "metadata": {},
   "outputs": [
    {
     "name": "stdout",
     "output_type": "stream",
     "text": [
      "   gender race_ethnicity parental_level_of_education         lunch  \\\n",
      "0  female        group B           bachelor's degree      standard   \n",
      "1  female        group C                some college      standard   \n",
      "2  female        group B             master's degree      standard   \n",
      "3    male        group A          associate's degree  free/reduced   \n",
      "4    male        group C                some college      standard   \n",
      "5  female        group B          associate's degree      standard   \n",
      "6  female        group B                some college      standard   \n",
      "7    male        group B                some college  free/reduced   \n",
      "8    male        group D                 high school  free/reduced   \n",
      "9  female        group B                 high school  free/reduced   \n",
      "\n",
      "  test_preparation_course  math_score  reading_score  writing_score  \n",
      "0                    none          72             72             74  \n",
      "1               completed          69             90             88  \n",
      "2                    none          90             95             93  \n",
      "3                    none          47             57             44  \n",
      "4                    none          76             78             75  \n",
      "5                    none          71             83             78  \n",
      "6               completed          88             95             92  \n",
      "7                    none          40             43             39  \n",
      "8               completed          64             64             67  \n",
      "9                    none          38             60             50  \n"
     ]
    }
   ],
   "source": [
    "print(df.head(10))  # Shows first 10 rows\n"
   ]
  },
  {
   "cell_type": "markdown",
   "id": "7d88cc37-26b4-47ce-9592-895de5c6b0da",
   "metadata": {},
   "source": [
    "#### Display last 10 rows"
   ]
  },
  {
   "cell_type": "code",
   "execution_count": 16,
   "id": "880edacb-8567-4d69-b787-15f4d324b805",
   "metadata": {},
   "outputs": [
    {
     "name": "stdout",
     "output_type": "stream",
     "text": [
      "     gender race_ethnicity parental_level_of_education         lunch  \\\n",
      "990    male        group E                 high school  free/reduced   \n",
      "991  female        group B            some high school      standard   \n",
      "992  female        group D          associate's degree  free/reduced   \n",
      "993  female        group D           bachelor's degree  free/reduced   \n",
      "994    male        group A                 high school      standard   \n",
      "995  female        group E             master's degree      standard   \n",
      "996    male        group C                 high school  free/reduced   \n",
      "997  female        group C                 high school  free/reduced   \n",
      "998  female        group D                some college      standard   \n",
      "999  female        group D                some college  free/reduced   \n",
      "\n",
      "    test_preparation_course  math_score  reading_score  writing_score  \n",
      "990               completed          86             81             75  \n",
      "991               completed          65             82             78  \n",
      "992                    none          55             76             76  \n",
      "993                    none          62             72             74  \n",
      "994                    none          63             63             62  \n",
      "995               completed          88             99             95  \n",
      "996                    none          62             55             55  \n",
      "997               completed          59             71             65  \n",
      "998               completed          68             78             77  \n",
      "999                    none          77             86             86  \n"
     ]
    }
   ],
   "source": [
    "\n",
    "print(df.tail(10))  # Shows last 10 rows\n"
   ]
  },
  {
   "cell_type": "markdown",
   "id": "b81636bb-665b-44b7-8716-16f04ad93c34",
   "metadata": {},
   "source": [
    "#### Dataset Information\n",
    "##### 1  gender - male/female\n",
    "##### 2  race_ethnicity - groups from A to D\n",
    "##### 3  parental_level_of_education - some college, high school, bachelor's degree, master's degree\n",
    "##### 3   lunch                      - having lunch before test (standard or reduced)\n",
    "##### 4   test_preparation_course    - completed or not completed \n",
    "##### 5   math_score                  \n",
    "##### 6   reading_score               \n",
    "##### 7   writing_score \n"
   ]
  },
  {
   "cell_type": "markdown",
   "id": "e78f89fa-f7f9-4ffe-8b48-e5ec48ea5bb8",
   "metadata": {},
   "source": [
    "## Data Checks to Perform"
   ]
  },
  {
   "cell_type": "markdown",
   "id": "8e399aae-e97b-4e8e-80cd-97f5ae85508d",
   "metadata": {},
   "source": [
    "#### 1 Check missing values"
   ]
  },
  {
   "cell_type": "code",
   "execution_count": 56,
   "id": "4bf6b14a-d61b-42dc-9250-1bdd37ee2e7f",
   "metadata": {},
   "outputs": [
    {
     "data": {
      "text/plain": [
       "gender                         0\n",
       "race_ethnicity                 0\n",
       "parental_level_of_education    0\n",
       "lunch                          0\n",
       "test_preparation_course        0\n",
       "math_score                     0\n",
       "reading_score                  0\n",
       "writing_score                  0\n",
       "dtype: int64"
      ]
     },
     "execution_count": 56,
     "metadata": {},
     "output_type": "execute_result"
    }
   ],
   "source": [
    "df.isna().sum()"
   ]
  },
  {
   "cell_type": "markdown",
   "id": "7f3acbec-9c62-414e-997d-1450e6f0f25c",
   "metadata": {},
   "source": [
    "##### There are no missing values"
   ]
  },
  {
   "cell_type": "markdown",
   "id": "88f489d6-1e21-4651-ba3e-2b8d6388db2b",
   "metadata": {},
   "source": [
    "#### 1.1 Visualising the missing values with graph"
   ]
  },
  {
   "cell_type": "markdown",
   "id": "5415583f-e698-40f1-acbb-e9d5dc9f8851",
   "metadata": {},
   "source": [
    "import seaborn as sns\n",
    "import matplotlib.pyplot as plt\n",
    "\n",
    "plt.figure(figsize=(10, 6))\n",
    "sns.heatmap(df.isnull(), cmap=\"viridis\", cbar=False, yticklabels=False)\n",
    "plt.title(\"Missing Values Heatmap\")\n",
    "plt.show()"
   ]
  },
  {
   "cell_type": "markdown",
   "id": "51603df8-8147-499a-afdb-3ffd8b1c1624",
   "metadata": {},
   "source": [
    "#### Check for duplicate rows"
   ]
  },
  {
   "cell_type": "code",
   "execution_count": 36,
   "id": "e2322560-4791-4465-8ce5-25f4dc1b840e",
   "metadata": {},
   "outputs": [
    {
     "name": "stdout",
     "output_type": "stream",
     "text": [
      "Total Duplicate Rows: 0\n"
     ]
    }
   ],
   "source": [
    "\n",
    "duplicate_rows = df.duplicated().sum()\n",
    "print(f\"Total Duplicate Rows: {duplicate_rows}\")"
   ]
  },
  {
   "cell_type": "markdown",
   "id": "80ddcdbf-47ee-4c55-a89f-e9f566bebf9c",
   "metadata": {},
   "source": [
    "##### There are no duplicate values"
   ]
  },
  {
   "cell_type": "markdown",
   "id": "6062cc32-c4a3-4e72-bddf-caa28eb1afe3",
   "metadata": {},
   "source": [
    "#### Check data types"
   ]
  },
  {
   "cell_type": "code",
   "execution_count": 41,
   "id": "565bfe44-a182-4602-9468-d82ddb1df1bb",
   "metadata": {},
   "outputs": [
    {
     "name": "stdout",
     "output_type": "stream",
     "text": [
      "Column Data Types:\n",
      "gender                         object\n",
      "race_ethnicity                 object\n",
      "parental_level_of_education    object\n",
      "lunch                          object\n",
      "test_preparation_course        object\n",
      "math_score                      int64\n",
      "reading_score                   int64\n",
      "writing_score                   int64\n",
      "dtype: object\n"
     ]
    }
   ],
   "source": [
    "\n",
    "print(\"Column Data Types:\")\n",
    "print(df.dtypes)"
   ]
  },
  {
   "cell_type": "code",
   "execution_count": 46,
   "id": "4a903362-47bc-4fa8-90c4-c01f64949878",
   "metadata": {},
   "outputs": [
    {
     "name": "stdout",
     "output_type": "stream",
     "text": [
      "<class 'pandas.core.frame.DataFrame'>\n",
      "RangeIndex: 1000 entries, 0 to 999\n",
      "Data columns (total 8 columns):\n",
      " #   Column                       Non-Null Count  Dtype \n",
      "---  ------                       --------------  ----- \n",
      " 0   gender                       1000 non-null   object\n",
      " 1   race_ethnicity               1000 non-null   object\n",
      " 2   parental_level_of_education  1000 non-null   object\n",
      " 3   lunch                        1000 non-null   object\n",
      " 4   test_preparation_course      1000 non-null   object\n",
      " 5   math_score                   1000 non-null   int64 \n",
      " 6   reading_score                1000 non-null   int64 \n",
      " 7   writing_score                1000 non-null   int64 \n",
      "dtypes: int64(3), object(5)\n",
      "memory usage: 62.6+ KB\n"
     ]
    }
   ],
   "source": [
    "# dataset information\n",
    "df.info()"
   ]
  },
  {
   "cell_type": "markdown",
   "id": "171de2f4-8811-41f2-b6f3-b8c8c555df4f",
   "metadata": {},
   "source": [
    "#### No. of unique values in each column"
   ]
  },
  {
   "cell_type": "code",
   "execution_count": 45,
   "id": "01074929-f8ca-40a7-8be8-1b65a22969d6",
   "metadata": {},
   "outputs": [
    {
     "name": "stdout",
     "output_type": "stream",
     "text": [
      "gender                          2\n",
      "race_ethnicity                  5\n",
      "parental_level_of_education     6\n",
      "lunch                           2\n",
      "test_preparation_course         2\n",
      "math_score                     81\n",
      "reading_score                  72\n",
      "writing_score                  77\n",
      "dtype: int64\n"
     ]
    }
   ],
   "source": [
    "unique_counts = df.nunique()\n",
    "print(unique_counts)"
   ]
  },
  {
   "cell_type": "markdown",
   "id": "bd63fec5-3052-4fbd-8935-5c75e13e5ac1",
   "metadata": {},
   "source": [
    "#### Check various categories present in the categorical columns"
   ]
  },
  {
   "cell_type": "code",
   "execution_count": null,
   "id": "2531e8f0-5d02-4eca-8f45-d6e9a7503b23",
   "metadata": {},
   "outputs": [],
   "source": [
    "# Select categorical columns\n",
    "categorical_cols = df.select_dtypes(include=['object', 'category']).columns\n",
    "\n",
    "# Print unique categories for each categorical column\n",
    "for col in categorical_cols:\n",
    "    print(f\"Categories in '{col}':\")\n",
    "    print(df[col].unique())\n",
    "    print(\"-\" * 50)  # for the dotted line "
   ]
  },
  {
   "cell_type": "markdown",
   "id": "e479dc7c-3316-4818-98fb-0fba507ab834",
   "metadata": {},
   "source": [
    "#### Finds the Statistics of the dataset"
   ]
  },
  {
   "cell_type": "code",
   "execution_count": 48,
   "id": "e47b18e2-20e5-4c5c-8e21-f8eb0b3a375e",
   "metadata": {},
   "outputs": [
    {
     "name": "stdout",
     "output_type": "stream",
     "text": [
      "       math_score  reading_score  writing_score\n",
      "count  1000.00000    1000.000000    1000.000000\n",
      "mean     66.08900      69.169000      68.054000\n",
      "std      15.16308      14.600192      15.195657\n",
      "min       0.00000      17.000000      10.000000\n",
      "25%      57.00000      59.000000      57.750000\n",
      "50%      66.00000      70.000000      69.000000\n",
      "75%      77.00000      79.000000      79.000000\n",
      "max     100.00000     100.000000     100.000000\n"
     ]
    }
   ],
   "source": [
    "print(df.describe())"
   ]
  },
  {
   "cell_type": "code",
   "execution_count": 51,
   "id": "53bd390a-dd27-4e16-972e-fafbeda995ba",
   "metadata": {},
   "outputs": [
    {
     "name": "stdout",
     "output_type": "stream",
     "text": [
      "Statistical Summary of Categorical Columns:\n",
      "\n",
      "        gender race_ethnicity parental_level_of_education     lunch  \\\n",
      "count     1000           1000                        1000      1000   \n",
      "unique       2              5                           6         2   \n",
      "top     female        group C                some college  standard   \n",
      "freq       518            319                         226       645   \n",
      "\n",
      "       test_preparation_course  \n",
      "count                     1000  \n",
      "unique                       2  \n",
      "top                       none  \n",
      "freq                       642  \n"
     ]
    }
   ],
   "source": [
    "print(\"Statistical Summary of Categorical Columns:\\n\")\n",
    "print(df.describe(include=['object', 'category']))"
   ]
  },
  {
   "cell_type": "code",
   "execution_count": 54,
   "id": "3125d358-6501-4d38-9cc9-7c41406cd159",
   "metadata": {},
   "outputs": [
    {
     "name": "stdout",
     "output_type": "stream",
     "text": [
      "Full Dataset Statistics: both Numerical & Categorical Columns:\n",
      "\n",
      "        gender race_ethnicity parental_level_of_education     lunch  \\\n",
      "count     1000           1000                        1000      1000   \n",
      "unique       2              5                           6         2   \n",
      "top     female        group C                some college  standard   \n",
      "freq       518            319                         226       645   \n",
      "mean       NaN            NaN                         NaN       NaN   \n",
      "std        NaN            NaN                         NaN       NaN   \n",
      "min        NaN            NaN                         NaN       NaN   \n",
      "25%        NaN            NaN                         NaN       NaN   \n",
      "50%        NaN            NaN                         NaN       NaN   \n",
      "75%        NaN            NaN                         NaN       NaN   \n",
      "max        NaN            NaN                         NaN       NaN   \n",
      "\n",
      "       test_preparation_course  math_score  reading_score  writing_score  \n",
      "count                     1000  1000.00000    1000.000000    1000.000000  \n",
      "unique                       2         NaN            NaN            NaN  \n",
      "top                       none         NaN            NaN            NaN  \n",
      "freq                       642         NaN            NaN            NaN  \n",
      "mean                       NaN    66.08900      69.169000      68.054000  \n",
      "std                        NaN    15.16308      14.600192      15.195657  \n",
      "min                        NaN     0.00000      17.000000      10.000000  \n",
      "25%                        NaN    57.00000      59.000000      57.750000  \n",
      "50%                        NaN    66.00000      70.000000      69.000000  \n",
      "75%                        NaN    77.00000      79.000000      79.000000  \n",
      "max                        NaN   100.00000     100.000000     100.000000  \n"
     ]
    }
   ],
   "source": [
    "print(\"Full Dataset Statistics: both Numerical & Categorical Columns:\\n\")\n",
    "print(df.describe(include='all'))"
   ]
  },
  {
   "cell_type": "markdown",
   "id": "bc97a1cb-8bd1-40fb-83dc-dd951d964df5",
   "metadata": {},
   "source": [
    "#### Explore Dataset to see the Independent(feature variables) and Dependent(target, to be predicted) variables"
   ]
  },
  {
   "cell_type": "code",
   "execution_count": null,
   "id": "b0fdad13-713b-476b-9e02-396c79bb12e8",
   "metadata": {},
   "outputs": [],
   "source": []
  },
  {
   "cell_type": "code",
   "execution_count": null,
   "id": "cc54eaa6-a14b-4b08-86d8-0af857ad9fbf",
   "metadata": {},
   "outputs": [],
   "source": []
  }
 ],
 "metadata": {
  "kernelspec": {
   "display_name": "Python (myenv)",
   "language": "python",
   "name": "myenv"
  },
  "language_info": {
   "codemirror_mode": {
    "name": "ipython",
    "version": 3
   },
   "file_extension": ".py",
   "mimetype": "text/x-python",
   "name": "python",
   "nbconvert_exporter": "python",
   "pygments_lexer": "ipython3",
   "version": "3.12.9"
  }
 },
 "nbformat": 4,
 "nbformat_minor": 5
}
