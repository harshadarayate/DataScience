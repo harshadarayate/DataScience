{
 "cells": [
  {
   "cell_type": "markdown",
   "id": "a23019b7-9dbd-42f0-8c95-57d4faf0cfc2",
   "metadata": {},
   "source": [
    "# EDA OF STUDENT TEST DATASET\n"
   ]
  },
  {
   "cell_type": "markdown",
   "id": "430cd27d-7123-4227-b59a-9d09b5a6817e",
   "metadata": {},
   "source": [
    "## Problem Statement \n",
    "#### This project understands how the student's performance (test score) is affected by other variables such as Gender, Ethnicity,Parental level of education, Lunch and Test preparation course."
   ]
  },
  {
   "cell_type": "markdown",
   "id": "fc5f28a4-352e-4ff5-9006-bab8c2b9e8a1",
   "metadata": {},
   "source": [
    "## Data Collection\n",
    "#### Dataset Source - https://www.kaggle.com/datasets/spscientist/students-performance-in-exams?datasetId=74977\n",
    "#### data consists of 8 columns and 1000 rows\n"
   ]
  },
  {
   "cell_type": "code",
   "execution_count": null,
   "id": "a521a83e-1811-4fcb-945c-dded3eecaa22",
   "metadata": {},
   "outputs": [],
   "source": []
  }
 ],
 "metadata": {
  "kernelspec": {
   "display_name": "Python 3 (ipykernel)",
   "language": "python",
   "name": "python3"
  },
  "language_info": {
   "codemirror_mode": {
    "name": "ipython",
    "version": 3
   },
   "file_extension": ".py",
   "mimetype": "text/x-python",
   "name": "python",
   "nbconvert_exporter": "python",
   "pygments_lexer": "ipython3",
   "version": "3.12.9"
  }
 },
 "nbformat": 4,
 "nbformat_minor": 5
}
